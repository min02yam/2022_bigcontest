{
  "cells": [
    {
      "cell_type": "markdown",
      "metadata": {
        "id": "view-in-github",
        "colab_type": "text"
      },
      "source": [
        "<a href=\"https://colab.research.google.com/github/min02yam/project_2022_02/blob/main/23%ED%9A%8C_%ED%86%B5%EA%B3%84%EB%B6%84%EC%84%9D.ipynb\" target=\"_parent\"><img src=\"https://colab.research.google.com/assets/colab-badge.svg\" alt=\"Open In Colab\"/></a>"
      ]
    },
    {
      "cell_type": "markdown",
      "metadata": {
        "id": "XJNzkBGFjfsL"
      },
      "source": [
        "통계분석"
      ]
    },
    {
      "cell_type": "code",
      "source": [
        "#install.packages(\"car\")\n",
        "require(data.table)\n",
        "require(dplyr)\n",
        "require(car)"
      ],
      "metadata": {
        "colab": {
          "base_uri": "https://localhost:8080/"
        },
        "id": "mc3Cws6SQe6l",
        "outputId": "c6b3b592-43aa-476f-d7f9-e1aae1795d7c"
      },
      "execution_count": 17,
      "outputs": [
        {
          "output_type": "stream",
          "name": "stderr",
          "text": [
            "Loading required package: car\n",
            "\n",
            "Loading required package: carData\n",
            "\n",
            "\n",
            "Attaching package: ‘car’\n",
            "\n",
            "\n",
            "The following object is masked from ‘package:dplyr’:\n",
            "\n",
            "    recode\n",
            "\n",
            "\n"
          ]
        }
      ]
    },
    {
      "cell_type": "code",
      "source": [
        "system(\"gdown --id 1Hqr7dUJK0YsBTcGkpdfsEmsEvTJswTF-\")"
      ],
      "metadata": {
        "id": "HOkLJCOnbsZ6"
      },
      "execution_count": 2,
      "outputs": []
    },
    {
      "cell_type": "code",
      "source": [
        "dt = fread(\"smp.csv\")"
      ],
      "metadata": {
        "id": "1a9JV74Db6Va"
      },
      "execution_count": 3,
      "outputs": []
    },
    {
      "cell_type": "code",
      "source": [
        "dt %>% head\n",
        "#dt = dt[,-c(1:2)]"
      ],
      "metadata": {
        "id": "wHjpi8M_cwyK"
      },
      "execution_count": null,
      "outputs": []
    },
    {
      "cell_type": "code",
      "source": [
        "set.seed(5543)\n",
        "ind = sample(2, nrow(dt), replace=TRUE, prob=c(0.7,0.3))\n",
        "train = dt[ind==1,]\n",
        "teat = dt[ind==2,]"
      ],
      "metadata": {
        "id": "5ZyIkrc6cE8T"
      },
      "execution_count": 11,
      "outputs": []
    },
    {
      "cell_type": "markdown",
      "source": [
        "# 2. 피팅"
      ],
      "metadata": {
        "id": "EIJjbVe7cY97"
      }
    },
    {
      "cell_type": "code",
      "source": [
        "fit = glm(신청_여부~. ,family=binomial, train)"
      ],
      "metadata": {
        "id": "WenyCZIRcVLi"
      },
      "execution_count": 12,
      "outputs": []
    },
    {
      "cell_type": "markdown",
      "source": [
        "## 2-1. 유의성 검정"
      ],
      "metadata": {
        "id": "5FkrvyeXc8Gb"
      }
    },
    {
      "cell_type": "code",
      "source": [
        "summary(fit)  #Wald test"
      ],
      "metadata": {
        "id": "KBYTlYjVcYjj",
        "outputId": "fa4a3f27-40b3-47a5-ed54-e750a69270f3",
        "colab": {
          "base_uri": "https://localhost:8080/",
          "height": 903
        }
      },
      "execution_count": 13,
      "outputs": [
        {
          "output_type": "display_data",
          "data": {
            "text/plain": [
              "\n",
              "Call:\n",
              "glm(formula = 신청_여부 ~ ., family = binomial, data = train)\n",
              "\n",
              "Deviance Residuals: \n",
              "    Min       1Q   Median       3Q      Max  \n",
              "-3.7881  -0.9164   0.1027   0.9285   5.6649  \n",
              "\n",
              "Coefficients: (5 not defined because of singularities)\n",
              "                      Estimate Std. Error  z value Pr(>|z|)    \n",
              "(Intercept)          8.519e+00  3.064e-02  278.042  < 2e-16 ***\n",
              "성별                 6.115e-02  5.785e-03   10.571  < 2e-16 ***\n",
              "기대출과다_여부      3.562e-02  7.427e-03    4.796 1.62e-06 ***\n",
              "기대출_여부          7.320e-02  7.470e-03    9.799  < 2e-16 ***\n",
              "근로형태_4대직장    -1.165e+00  7.838e-03 -148.605  < 2e-16 ***\n",
              "근로형태_기타               NA         NA       NA       NA    \n",
              "고용형태_기타        2.921e-01  7.433e-03   39.303  < 2e-16 ***\n",
              "고용형태_정규직             NA         NA       NA       NA    \n",
              "주거소유형태_기타    8.284e-02  6.189e-03   13.386  < 2e-16 ***\n",
              "주거소유형태_자가   -1.247e-01  7.104e-03  -17.549  < 2e-16 ***\n",
              "주거소유형태_전월세         NA         NA       NA       NA    \n",
              "대출목적_기타       -5.137e-01  8.673e-03  -59.231  < 2e-16 ***\n",
              "대출목적_대환대출   -5.720e-01  6.151e-03  -92.987  < 2e-16 ***\n",
              "대출목적_생활비             NA         NA       NA       NA    \n",
              "개인회생_납입완료    4.169e-01  1.284e-01    3.248  0.00116 ** \n",
              "개인회생_납입중      2.564e-01  5.085e-02    5.043 4.58e-07 ***\n",
              "개인회생_비인가      4.639e-02  5.327e-03    8.709  < 2e-16 ***\n",
              "개인회생_알수없음           NA         NA       NA       NA    \n",
              "금융사번호           3.940e+00  4.582e-01    8.599  < 2e-16 ***\n",
              "상품번호             4.820e+00  1.032e-01   46.688  < 2e-16 ***\n",
              "승인한도             3.139e+01  5.267e-01   59.597  < 2e-16 ***\n",
              "승인금리            -3.874e+02  2.070e+00 -187.093  < 2e-16 ***\n",
              "연소득               1.578e+00  2.506e-01    6.298 3.02e-10 ***\n",
              "신용점수            -2.635e+01  8.983e-02 -293.316  < 2e-16 ***\n",
              "대출희망금액        -1.452e+01  2.435e-01  -59.623  < 2e-16 ***\n",
              "기대출금액           4.503e+00  1.310e-01   34.373  < 2e-16 ***\n",
              "나이                -2.012e+01  8.297e-01  -24.252  < 2e-16 ***\n",
              "근속기간             2.775e+00  1.735e+00    1.600  0.10959    \n",
              "---\n",
              "Signif. codes:  0 ‘***’ 0.001 ‘**’ 0.01 ‘*’ 0.05 ‘.’ 0.1 ‘ ’ 1\n",
              "\n",
              "(Dispersion parameter for binomial family taken to be 1)\n",
              "\n",
              "    Null deviance: 1076589  on 776594  degrees of freedom\n",
              "Residual deviance:  856510  on 776572  degrees of freedom\n",
              "AIC: 856556\n",
              "\n",
              "Number of Fisher Scoring iterations: 5\n"
            ]
          },
          "metadata": {}
        }
      ]
    },
    {
      "cell_type": "code",
      "source": [
        "Anova(fit) #LRT"
      ],
      "metadata": {
        "id": "jYpRoeuXdejL",
        "outputId": "7fb9e62f-02d1-46df-ddcb-82dbfc916615",
        "colab": {
          "base_uri": "https://localhost:8080/",
          "height": 944
        }
      },
      "execution_count": 18,
      "outputs": [
        {
          "output_type": "display_data",
          "data": {
            "text/html": [
              "<table class=\"dataframe\">\n",
              "<caption>A anova: 27 × 3</caption>\n",
              "<thead>\n",
              "\t<tr><th></th><th scope=col>LR Chisq</th><th scope=col>Df</th><th scope=col>Pr(&gt;Chisq)</th></tr>\n",
              "\t<tr><th></th><th scope=col>&lt;dbl&gt;</th><th scope=col>&lt;dbl&gt;</th><th scope=col>&lt;dbl&gt;</th></tr>\n",
              "</thead>\n",
              "<tbody>\n",
              "\t<tr><th scope=row>성별</th><td>1.117699e+02</td><td>1</td><td> 4.012754e-26</td></tr>\n",
              "\t<tr><th scope=row>기대출과다_여부</th><td>2.300334e+01</td><td>1</td><td> 1.617200e-06</td></tr>\n",
              "\t<tr><th scope=row>기대출_여부</th><td>9.598135e+01</td><td>1</td><td> 1.159711e-22</td></tr>\n",
              "\t<tr><th scope=row>근로형태_4대직장</th><td>          NA</td><td>0</td><td>           NA</td></tr>\n",
              "\t<tr><th scope=row>근로형태_기타</th><td>          NA</td><td>0</td><td>           NA</td></tr>\n",
              "\t<tr><th scope=row>고용형태_기타</th><td>          NA</td><td>0</td><td>           NA</td></tr>\n",
              "\t<tr><th scope=row>고용형태_정규직</th><td>          NA</td><td>0</td><td>           NA</td></tr>\n",
              "\t<tr><th scope=row>주거소유형태_기타</th><td>          NA</td><td>0</td><td>           NA</td></tr>\n",
              "\t<tr><th scope=row>주거소유형태_자가</th><td>          NA</td><td>0</td><td>           NA</td></tr>\n",
              "\t<tr><th scope=row>주거소유형태_전월세</th><td>          NA</td><td>0</td><td>           NA</td></tr>\n",
              "\t<tr><th scope=row>대출목적_기타</th><td>          NA</td><td>0</td><td>           NA</td></tr>\n",
              "\t<tr><th scope=row>대출목적_대환대출</th><td>          NA</td><td>0</td><td>           NA</td></tr>\n",
              "\t<tr><th scope=row>대출목적_생활비</th><td>          NA</td><td>0</td><td>           NA</td></tr>\n",
              "\t<tr><th scope=row>개인회생_납입완료</th><td>          NA</td><td>0</td><td>           NA</td></tr>\n",
              "\t<tr><th scope=row>개인회생_납입중</th><td>          NA</td><td>0</td><td>           NA</td></tr>\n",
              "\t<tr><th scope=row>개인회생_비인가</th><td>          NA</td><td>0</td><td>           NA</td></tr>\n",
              "\t<tr><th scope=row>개인회생_알수없음</th><td>          NA</td><td>0</td><td>           NA</td></tr>\n",
              "\t<tr><th scope=row>금융사번호</th><td>7.394991e+01</td><td>1</td><td> 8.012457e-18</td></tr>\n",
              "\t<tr><th scope=row>상품번호</th><td>2.189113e+03</td><td>1</td><td> 0.000000e+00</td></tr>\n",
              "\t<tr><th scope=row>승인한도</th><td>3.597022e+03</td><td>1</td><td> 0.000000e+00</td></tr>\n",
              "\t<tr><th scope=row>승인금리</th><td>3.742813e+04</td><td>1</td><td> 0.000000e+00</td></tr>\n",
              "\t<tr><th scope=row>연소득</th><td>3.982827e+01</td><td>1</td><td> 2.773024e-10</td></tr>\n",
              "\t<tr><th scope=row>신용점수</th><td>1.067310e+05</td><td>1</td><td> 0.000000e+00</td></tr>\n",
              "\t<tr><th scope=row>대출희망금액</th><td>5.765208e+03</td><td>1</td><td> 0.000000e+00</td></tr>\n",
              "\t<tr><th scope=row>기대출금액</th><td>1.185865e+03</td><td>1</td><td>7.197803e-260</td></tr>\n",
              "\t<tr><th scope=row>나이</th><td>5.884492e+02</td><td>1</td><td>5.447805e-130</td></tr>\n",
              "\t<tr><th scope=row>근속기간</th><td>2.559801e+00</td><td>1</td><td> 1.096123e-01</td></tr>\n",
              "</tbody>\n",
              "</table>\n"
            ],
            "text/markdown": "\nA anova: 27 × 3\n\n| <!--/--> | LR Chisq &lt;dbl&gt; | Df &lt;dbl&gt; | Pr(&gt;Chisq) &lt;dbl&gt; |\n|---|---|---|---|\n| 성별 | 1.117699e+02 | 1 |  4.012754e-26 |\n| 기대출과다_여부 | 2.300334e+01 | 1 |  1.617200e-06 |\n| 기대출_여부 | 9.598135e+01 | 1 |  1.159711e-22 |\n| 근로형태_4대직장 |           NA | 0 |            NA |\n| 근로형태_기타 |           NA | 0 |            NA |\n| 고용형태_기타 |           NA | 0 |            NA |\n| 고용형태_정규직 |           NA | 0 |            NA |\n| 주거소유형태_기타 |           NA | 0 |            NA |\n| 주거소유형태_자가 |           NA | 0 |            NA |\n| 주거소유형태_전월세 |           NA | 0 |            NA |\n| 대출목적_기타 |           NA | 0 |            NA |\n| 대출목적_대환대출 |           NA | 0 |            NA |\n| 대출목적_생활비 |           NA | 0 |            NA |\n| 개인회생_납입완료 |           NA | 0 |            NA |\n| 개인회생_납입중 |           NA | 0 |            NA |\n| 개인회생_비인가 |           NA | 0 |            NA |\n| 개인회생_알수없음 |           NA | 0 |            NA |\n| 금융사번호 | 7.394991e+01 | 1 |  8.012457e-18 |\n| 상품번호 | 2.189113e+03 | 1 |  0.000000e+00 |\n| 승인한도 | 3.597022e+03 | 1 |  0.000000e+00 |\n| 승인금리 | 3.742813e+04 | 1 |  0.000000e+00 |\n| 연소득 | 3.982827e+01 | 1 |  2.773024e-10 |\n| 신용점수 | 1.067310e+05 | 1 |  0.000000e+00 |\n| 대출희망금액 | 5.765208e+03 | 1 |  0.000000e+00 |\n| 기대출금액 | 1.185865e+03 | 1 | 7.197803e-260 |\n| 나이 | 5.884492e+02 | 1 | 5.447805e-130 |\n| 근속기간 | 2.559801e+00 | 1 |  1.096123e-01 |\n\n",
            "text/latex": "A anova: 27 × 3\n\\begin{tabular}{r|lll}\n  & LR Chisq & Df & Pr(>Chisq)\\\\\n  & <dbl> & <dbl> & <dbl>\\\\\n\\hline\n\t성별 & 1.117699e+02 & 1 &  4.012754e-26\\\\\n\t기대출과다\\_여부 & 2.300334e+01 & 1 &  1.617200e-06\\\\\n\t기대출\\_여부 & 9.598135e+01 & 1 &  1.159711e-22\\\\\n\t근로형태\\_4대직장 &           NA & 0 &            NA\\\\\n\t근로형태\\_기타 &           NA & 0 &            NA\\\\\n\t고용형태\\_기타 &           NA & 0 &            NA\\\\\n\t고용형태\\_정규직 &           NA & 0 &            NA\\\\\n\t주거소유형태\\_기타 &           NA & 0 &            NA\\\\\n\t주거소유형태\\_자가 &           NA & 0 &            NA\\\\\n\t주거소유형태\\_전월세 &           NA & 0 &            NA\\\\\n\t대출목적\\_기타 &           NA & 0 &            NA\\\\\n\t대출목적\\_대환대출 &           NA & 0 &            NA\\\\\n\t대출목적\\_생활비 &           NA & 0 &            NA\\\\\n\t개인회생\\_납입완료 &           NA & 0 &            NA\\\\\n\t개인회생\\_납입중 &           NA & 0 &            NA\\\\\n\t개인회생\\_비인가 &           NA & 0 &            NA\\\\\n\t개인회생\\_알수없음 &           NA & 0 &            NA\\\\\n\t금융사번호 & 7.394991e+01 & 1 &  8.012457e-18\\\\\n\t상품번호 & 2.189113e+03 & 1 &  0.000000e+00\\\\\n\t승인한도 & 3.597022e+03 & 1 &  0.000000e+00\\\\\n\t승인금리 & 3.742813e+04 & 1 &  0.000000e+00\\\\\n\t연소득 & 3.982827e+01 & 1 &  2.773024e-10\\\\\n\t신용점수 & 1.067310e+05 & 1 &  0.000000e+00\\\\\n\t대출희망금액 & 5.765208e+03 & 1 &  0.000000e+00\\\\\n\t기대출금액 & 1.185865e+03 & 1 & 7.197803e-260\\\\\n\t나이 & 5.884492e+02 & 1 & 5.447805e-130\\\\\n\t근속기간 & 2.559801e+00 & 1 &  1.096123e-01\\\\\n\\end{tabular}\n",
            "text/plain": [
              "                    LR Chisq     Df Pr(>Chisq)   \n",
              "성별                1.117699e+02 1   4.012754e-26\n",
              "기대출과다_여부     2.300334e+01 1   1.617200e-06\n",
              "기대출_여부         9.598135e+01 1   1.159711e-22\n",
              "근로형태_4대직장              NA 0             NA\n",
              "근로형태_기타                 NA 0             NA\n",
              "고용형태_기타                 NA 0             NA\n",
              "고용형태_정규직               NA 0             NA\n",
              "주거소유형태_기타             NA 0             NA\n",
              "주거소유형태_자가             NA 0             NA\n",
              "주거소유형태_전월세           NA 0             NA\n",
              "대출목적_기타                 NA 0             NA\n",
              "대출목적_대환대출             NA 0             NA\n",
              "대출목적_생활비               NA 0             NA\n",
              "개인회생_납입완료             NA 0             NA\n",
              "개인회생_납입중               NA 0             NA\n",
              "개인회생_비인가               NA 0             NA\n",
              "개인회생_알수없음             NA 0             NA\n",
              "금융사번호          7.394991e+01 1   8.012457e-18\n",
              "상품번호            2.189113e+03 1   0.000000e+00\n",
              "승인한도            3.597022e+03 1   0.000000e+00\n",
              "승인금리            3.742813e+04 1   0.000000e+00\n",
              "연소득              3.982827e+01 1   2.773024e-10\n",
              "신용점수            1.067310e+05 1   0.000000e+00\n",
              "대출희망금액        5.765208e+03 1   0.000000e+00\n",
              "기대출금액          1.185865e+03 1  7.197803e-260\n",
              "나이                5.884492e+02 1  5.447805e-130\n",
              "근속기간            2.559801e+00 1   1.096123e-01"
            ]
          },
          "metadata": {}
        }
      ]
    },
    {
      "cell_type": "code",
      "source": [
        "Anova = as.data.frame( (Anova(fit)) )\n",
        "o = order(Anova[,3], decreasing=FALSE)\n",
        "Anova[o,]"
      ],
      "metadata": {
        "id": "KQoF-vTveKL0",
        "outputId": "eb6da549-3aa5-4bce-9d3a-cea68ab51532",
        "colab": {
          "base_uri": "https://localhost:8080/",
          "height": 944
        }
      },
      "execution_count": 19,
      "outputs": [
        {
          "output_type": "display_data",
          "data": {
            "text/html": [
              "<table class=\"dataframe\">\n",
              "<caption>A data.frame: 27 × 3</caption>\n",
              "<thead>\n",
              "\t<tr><th></th><th scope=col>LR Chisq</th><th scope=col>Df</th><th scope=col>Pr(&gt;Chisq)</th></tr>\n",
              "\t<tr><th></th><th scope=col>&lt;dbl&gt;</th><th scope=col>&lt;dbl&gt;</th><th scope=col>&lt;dbl&gt;</th></tr>\n",
              "</thead>\n",
              "<tbody>\n",
              "\t<tr><th scope=row>상품번호</th><td>2.189113e+03</td><td>1</td><td> 0.000000e+00</td></tr>\n",
              "\t<tr><th scope=row>승인한도</th><td>3.597022e+03</td><td>1</td><td> 0.000000e+00</td></tr>\n",
              "\t<tr><th scope=row>승인금리</th><td>3.742813e+04</td><td>1</td><td> 0.000000e+00</td></tr>\n",
              "\t<tr><th scope=row>신용점수</th><td>1.067310e+05</td><td>1</td><td> 0.000000e+00</td></tr>\n",
              "\t<tr><th scope=row>대출희망금액</th><td>5.765208e+03</td><td>1</td><td> 0.000000e+00</td></tr>\n",
              "\t<tr><th scope=row>기대출금액</th><td>1.185865e+03</td><td>1</td><td>7.197803e-260</td></tr>\n",
              "\t<tr><th scope=row>나이</th><td>5.884492e+02</td><td>1</td><td>5.447805e-130</td></tr>\n",
              "\t<tr><th scope=row>성별</th><td>1.117699e+02</td><td>1</td><td> 4.012754e-26</td></tr>\n",
              "\t<tr><th scope=row>기대출_여부</th><td>9.598135e+01</td><td>1</td><td> 1.159711e-22</td></tr>\n",
              "\t<tr><th scope=row>금융사번호</th><td>7.394991e+01</td><td>1</td><td> 8.012457e-18</td></tr>\n",
              "\t<tr><th scope=row>연소득</th><td>3.982827e+01</td><td>1</td><td> 2.773024e-10</td></tr>\n",
              "\t<tr><th scope=row>기대출과다_여부</th><td>2.300334e+01</td><td>1</td><td> 1.617200e-06</td></tr>\n",
              "\t<tr><th scope=row>근속기간</th><td>2.559801e+00</td><td>1</td><td> 1.096123e-01</td></tr>\n",
              "\t<tr><th scope=row>근로형태_4대직장</th><td>          NA</td><td>0</td><td>           NA</td></tr>\n",
              "\t<tr><th scope=row>근로형태_기타</th><td>          NA</td><td>0</td><td>           NA</td></tr>\n",
              "\t<tr><th scope=row>고용형태_기타</th><td>          NA</td><td>0</td><td>           NA</td></tr>\n",
              "\t<tr><th scope=row>고용형태_정규직</th><td>          NA</td><td>0</td><td>           NA</td></tr>\n",
              "\t<tr><th scope=row>주거소유형태_기타</th><td>          NA</td><td>0</td><td>           NA</td></tr>\n",
              "\t<tr><th scope=row>주거소유형태_자가</th><td>          NA</td><td>0</td><td>           NA</td></tr>\n",
              "\t<tr><th scope=row>주거소유형태_전월세</th><td>          NA</td><td>0</td><td>           NA</td></tr>\n",
              "\t<tr><th scope=row>대출목적_기타</th><td>          NA</td><td>0</td><td>           NA</td></tr>\n",
              "\t<tr><th scope=row>대출목적_대환대출</th><td>          NA</td><td>0</td><td>           NA</td></tr>\n",
              "\t<tr><th scope=row>대출목적_생활비</th><td>          NA</td><td>0</td><td>           NA</td></tr>\n",
              "\t<tr><th scope=row>개인회생_납입완료</th><td>          NA</td><td>0</td><td>           NA</td></tr>\n",
              "\t<tr><th scope=row>개인회생_납입중</th><td>          NA</td><td>0</td><td>           NA</td></tr>\n",
              "\t<tr><th scope=row>개인회생_비인가</th><td>          NA</td><td>0</td><td>           NA</td></tr>\n",
              "\t<tr><th scope=row>개인회생_알수없음</th><td>          NA</td><td>0</td><td>           NA</td></tr>\n",
              "</tbody>\n",
              "</table>\n"
            ],
            "text/markdown": "\nA data.frame: 27 × 3\n\n| <!--/--> | LR Chisq &lt;dbl&gt; | Df &lt;dbl&gt; | Pr(&gt;Chisq) &lt;dbl&gt; |\n|---|---|---|---|\n| 상품번호 | 2.189113e+03 | 1 |  0.000000e+00 |\n| 승인한도 | 3.597022e+03 | 1 |  0.000000e+00 |\n| 승인금리 | 3.742813e+04 | 1 |  0.000000e+00 |\n| 신용점수 | 1.067310e+05 | 1 |  0.000000e+00 |\n| 대출희망금액 | 5.765208e+03 | 1 |  0.000000e+00 |\n| 기대출금액 | 1.185865e+03 | 1 | 7.197803e-260 |\n| 나이 | 5.884492e+02 | 1 | 5.447805e-130 |\n| 성별 | 1.117699e+02 | 1 |  4.012754e-26 |\n| 기대출_여부 | 9.598135e+01 | 1 |  1.159711e-22 |\n| 금융사번호 | 7.394991e+01 | 1 |  8.012457e-18 |\n| 연소득 | 3.982827e+01 | 1 |  2.773024e-10 |\n| 기대출과다_여부 | 2.300334e+01 | 1 |  1.617200e-06 |\n| 근속기간 | 2.559801e+00 | 1 |  1.096123e-01 |\n| 근로형태_4대직장 |           NA | 0 |            NA |\n| 근로형태_기타 |           NA | 0 |            NA |\n| 고용형태_기타 |           NA | 0 |            NA |\n| 고용형태_정규직 |           NA | 0 |            NA |\n| 주거소유형태_기타 |           NA | 0 |            NA |\n| 주거소유형태_자가 |           NA | 0 |            NA |\n| 주거소유형태_전월세 |           NA | 0 |            NA |\n| 대출목적_기타 |           NA | 0 |            NA |\n| 대출목적_대환대출 |           NA | 0 |            NA |\n| 대출목적_생활비 |           NA | 0 |            NA |\n| 개인회생_납입완료 |           NA | 0 |            NA |\n| 개인회생_납입중 |           NA | 0 |            NA |\n| 개인회생_비인가 |           NA | 0 |            NA |\n| 개인회생_알수없음 |           NA | 0 |            NA |\n\n",
            "text/latex": "A data.frame: 27 × 3\n\\begin{tabular}{r|lll}\n  & LR Chisq & Df & Pr(>Chisq)\\\\\n  & <dbl> & <dbl> & <dbl>\\\\\n\\hline\n\t상품번호 & 2.189113e+03 & 1 &  0.000000e+00\\\\\n\t승인한도 & 3.597022e+03 & 1 &  0.000000e+00\\\\\n\t승인금리 & 3.742813e+04 & 1 &  0.000000e+00\\\\\n\t신용점수 & 1.067310e+05 & 1 &  0.000000e+00\\\\\n\t대출희망금액 & 5.765208e+03 & 1 &  0.000000e+00\\\\\n\t기대출금액 & 1.185865e+03 & 1 & 7.197803e-260\\\\\n\t나이 & 5.884492e+02 & 1 & 5.447805e-130\\\\\n\t성별 & 1.117699e+02 & 1 &  4.012754e-26\\\\\n\t기대출\\_여부 & 9.598135e+01 & 1 &  1.159711e-22\\\\\n\t금융사번호 & 7.394991e+01 & 1 &  8.012457e-18\\\\\n\t연소득 & 3.982827e+01 & 1 &  2.773024e-10\\\\\n\t기대출과다\\_여부 & 2.300334e+01 & 1 &  1.617200e-06\\\\\n\t근속기간 & 2.559801e+00 & 1 &  1.096123e-01\\\\\n\t근로형태\\_4대직장 &           NA & 0 &            NA\\\\\n\t근로형태\\_기타 &           NA & 0 &            NA\\\\\n\t고용형태\\_기타 &           NA & 0 &            NA\\\\\n\t고용형태\\_정규직 &           NA & 0 &            NA\\\\\n\t주거소유형태\\_기타 &           NA & 0 &            NA\\\\\n\t주거소유형태\\_자가 &           NA & 0 &            NA\\\\\n\t주거소유형태\\_전월세 &           NA & 0 &            NA\\\\\n\t대출목적\\_기타 &           NA & 0 &            NA\\\\\n\t대출목적\\_대환대출 &           NA & 0 &            NA\\\\\n\t대출목적\\_생활비 &           NA & 0 &            NA\\\\\n\t개인회생\\_납입완료 &           NA & 0 &            NA\\\\\n\t개인회생\\_납입중 &           NA & 0 &            NA\\\\\n\t개인회생\\_비인가 &           NA & 0 &            NA\\\\\n\t개인회생\\_알수없음 &           NA & 0 &            NA\\\\\n\\end{tabular}\n",
            "text/plain": [
              "                    LR Chisq     Df Pr(>Chisq)   \n",
              "상품번호            2.189113e+03 1   0.000000e+00\n",
              "승인한도            3.597022e+03 1   0.000000e+00\n",
              "승인금리            3.742813e+04 1   0.000000e+00\n",
              "신용점수            1.067310e+05 1   0.000000e+00\n",
              "대출희망금액        5.765208e+03 1   0.000000e+00\n",
              "기대출금액          1.185865e+03 1  7.197803e-260\n",
              "나이                5.884492e+02 1  5.447805e-130\n",
              "성별                1.117699e+02 1   4.012754e-26\n",
              "기대출_여부         9.598135e+01 1   1.159711e-22\n",
              "금융사번호          7.394991e+01 1   8.012457e-18\n",
              "연소득              3.982827e+01 1   2.773024e-10\n",
              "기대출과다_여부     2.300334e+01 1   1.617200e-06\n",
              "근속기간            2.559801e+00 1   1.096123e-01\n",
              "근로형태_4대직장              NA 0             NA\n",
              "근로형태_기타                 NA 0             NA\n",
              "고용형태_기타                 NA 0             NA\n",
              "고용형태_정규직               NA 0             NA\n",
              "주거소유형태_기타             NA 0             NA\n",
              "주거소유형태_자가             NA 0             NA\n",
              "주거소유형태_전월세           NA 0             NA\n",
              "대출목적_기타                 NA 0             NA\n",
              "대출목적_대환대출             NA 0             NA\n",
              "대출목적_생활비               NA 0             NA\n",
              "개인회생_납입완료             NA 0             NA\n",
              "개인회생_납입중               NA 0             NA\n",
              "개인회생_비인가               NA 0             NA\n",
              "개인회생_알수없음             NA 0             NA"
            ]
          },
          "metadata": {}
        }
      ]
    },
    {
      "cell_type": "markdown",
      "source": [
        "## 2-2 적합성 검정(글로벌 검정)\n",
        "- Null deviance: 284.88 on 205 degrees of freedom\n",
        "- Residual deviance: 152.61 on 192 degrees of freedom"
      ],
      "metadata": {
        "id": "PjSwYjgyesY7"
      }
    },
    {
      "cell_type": "code",
      "source": [
        "1- pchisq(284.88-152.61, 205-192)\n",
        "0\n",
        "가설설정\n",
        "H_0: beta_1= ...=beta_all = 0\n",
        "H_A: Not H_0\n",
        "결론\n",
        "(매우 작은 유의 수준 하에서도) 귀무가설 기각할 근거 충분함\n",
        "해석\n",
        "매우 유의함-> 적어도 하나의 예측변수가 유의한 효과를 갖고 있다고 할 수 있음\n",
        "즉, 모형은 적합하다."
      ],
      "metadata": {
        "id": "FUZw_lR-er7T"
      },
      "execution_count": null,
      "outputs": []
    },
    {
      "cell_type": "code",
      "source": [
        "library(MASS); stepAIC(fit)"
      ],
      "metadata": {
        "id": "K_YGH-AIfAZn"
      },
      "execution_count": null,
      "outputs": []
    },
    {
      "cell_type": "code",
      "source": [
        "library(leaps)\n",
        "library(bestglm)"
      ],
      "metadata": {
        "id": "TurPc6BSfHPb"
      },
      "execution_count": null,
      "outputs": []
    }
  ],
  "metadata": {
    "accelerator": "GPU",
    "colab": {
      "collapsed_sections": [],
      "machine_shape": "hm",
      "provenance": [],
      "authorship_tag": "ABX9TyMPY9sVnAd2jTosvICKlqM2",
      "include_colab_link": true
    },
    "gpuClass": "standard",
    "kernelspec": {
      "display_name": "R",
      "name": "ir"
    },
    "language_info": {
      "name": "R"
    }
  },
  "nbformat": 4,
  "nbformat_minor": 0
}